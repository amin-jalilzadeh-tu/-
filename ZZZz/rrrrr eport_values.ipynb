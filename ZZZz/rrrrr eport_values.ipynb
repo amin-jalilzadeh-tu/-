{
 "cells": [
  {
   "cell_type": "code",
   "execution_count": null,
   "metadata": {},
   "outputs": [],
   "source": [
    "def combine_files_from_list(list_file, output_file):\n",
    "    # Read file paths from the given file (one path per line)\n",
    "    with open(list_file, \"r\", encoding=\"utf-8\") as file:\n",
    "        file_paths = [line.strip() for line in file if line.strip()]\n",
    "    \n",
    "    with open(output_file, \"w\", encoding=\"utf-8\") as out_file:\n",
    "        for path in file_paths:\n",
    "            # Write the file path as a header\n",
    "            out_file.write(f\"File: {path}\\n\")\n",
    "            out_file.write(\"=\" * 60 + \"\\n\")\n",
    "            try:\n",
    "                # Open and read the content of the current file\n",
    "                with open(path, \"r\", encoding=\"utf-8\") as f:\n",
    "                    content = f.read()\n",
    "                    out_file.write(content)\n",
    "            except Exception as e:\n",
    "                # Write an error message if the file can't be read\n",
    "                out_file.write(f\"Error reading file: {e}\\n\")\n",
    "            out_file.write(\"\\n\" + \"-\" * 60 + \"\\n\\n\")\n",
    "\n",
    "if __name__ == \"__main__\":\n",
    "    # File that contains the list of paths (one per line) in the given format\n",
    "    list_file = \"file_paths.txt\"\n",
    "    # Output file where combined content will be saved\n",
    "    output_file = \"D:\\Documents\\E_Plus_2030_py\\ZZZz\\combined_files.txt\"\n",
    "    \n",
    "    combine_files_from_list(list_file, output_file)\n",
    "    print(f\"Combined file created: {output_file}\")\n"
   ]
  },
  {
   "cell_type": "code",
   "execution_count": 2,
   "metadata": {},
   "outputs": [],
   "source": [
    "import sys\n",
    "\n",
    "# Suppose check_files.py is in D:\\Documents\\E_Plus_2030_py\\ZZZz\n",
    "sys.path.append(r\"D:\\Documents\\E_Plus_2030_py\\ZZZz\")\n",
    "\n",
    "from check_files import check_number_of_columns_and_extract, check_number_of_rows_and_extract\n",
    "\n",
    "# Columns check\n",
    "check_number_of_columns_and_extract(\n",
    "    file_list_path=r\"D:\\Documents\\E_Plus_2030_py\\ZZZz\\file_list.txt\",\n",
    "    expected_columns=1,\n",
    "    output_txt_path=r\"D:\\Documents\\E_Plus_2030_py\\ZZZz\\columns_report.txt\"\n",
    ")\n",
    "\n",
    "# Rows check\n",
    "check_number_of_rows_and_extract(\n",
    "    file_list_path=r\"D:\\Documents\\E_Plus_2030_py\\ZZZz\\file_list.txt\",\n",
    "    expected_rows=1,\n",
    "    output_txt_path=r\"D:\\Documents\\E_Plus_2030_py\\ZZZz\\rows_report.txt\"\n",
    ")\n"
   ]
  }
 ],
 "metadata": {
  "kernelspec": {
   "display_name": "DDsaie",
   "language": "python",
   "name": "python3"
  },
  "language_info": {
   "codemirror_mode": {
    "name": "ipython",
    "version": 3
   },
   "file_extension": ".py",
   "mimetype": "text/x-python",
   "name": "python",
   "nbconvert_exporter": "python",
   "pygments_lexer": "ipython3",
   "version": "3.9.17"
  }
 },
 "nbformat": 4,
 "nbformat_minor": 2
}
