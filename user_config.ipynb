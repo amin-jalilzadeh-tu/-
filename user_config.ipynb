user_config = [
    # 1) Override for a specific building_id:
    {
        "building_id": 101,
        "param_name": "lights_wm2",
        "min_val": 10.0,
        "max_val": 12.0
    },
    {
        "building_id": 101,
        "param_name": "tN",
        "min_val": 200,
        "max_val": 300
    },

    # 2) Override for all “Office” buildings
    {
        "building_type": "Office",
        "param_name": "parasitic_wm2",
        "min_val": 0.25,
        "max_val": 0.28
    },

    # 3) Override for “residential” built “1992 - 2005”
    {
        "building_type": "residential",
        "age_range": "1992 - 2005",
        "param_name": "lights_wm2",
        "min_val": 2.0,
        "max_val": 3.0
    },

    # 4) Another possible override
    {
        "building_id": 202,
        "building_type": "Office",
        "param_name": "tD",
        "min_val": 2300,
        "max_val": 2300   # fixed
    },
]
